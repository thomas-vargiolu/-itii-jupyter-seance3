{
 "cells": [
  {
   "cell_type": "code",
   "execution_count": 19,
   "metadata": {},
   "outputs": [
    {
     "name": "stdout",
     "output_type": "stream",
     "text": [
      "m =  0.7734375\n",
      "0.009549617767333984\n",
      "7\n"
     ]
    },
    {
     "data": {
      "image/png": "[encoded data removed]",
      "text/plain": [
       "<Figure size 432x288 with 1 Axes>"
      ]
     },
     "metadata": {
      "needs_background": "light"
     },
     "output_type": "display_data"
    }
   ],
   "source": [
    "#Exercice 1 :\n",
    "import numpy as np\n",
    "\n",
    "#f(x) est continue car composé de fonctions usuelles\n",
    "#f(x) est strictement croissente (monotone) sur l'interval[0;1] car sa derivée est positive sur cette interval\n",
    "#f(0) = -2 et f(0.5) = -0.875 donc entre [0.5;1]\n",
    "\n",
    "import matplotlib.pyplot as plt\n",
    "\n",
    "x=np.linspace(0,1,10)\n",
    "plt.plot(x,x**3+2*x-2)  # on utilise la fonction sinus de Numpy\n",
    "plt.ylabel('fonction')\n",
    "plt.xlabel(\"l'axe des abcisses\")\n",
    "\n",
    "debut = 0\n",
    "fin = 1\n",
    "ecart = fin-debut\n",
    "n = 0\n",
    "while ecart>0.01:\n",
    "    #calcul du milieu\n",
    "    m = (debut+fin)/2\n",
    "    if (m**3+2*m-2)>0:\n",
    "        #la solution est inférieure à m\n",
    "        fin = m\n",
    "    else:\n",
    "        #la solution est supérieure à m\n",
    "        debut = m\n",
    "    ecart = fin-debut\n",
    "    n = n + 1;\n",
    "\n",
    "print(\"m = \",m)\n",
    "print(\"f(m) = \"((m**3)+(2*m)-2))\n",
    "print(\"n = \"n)\n",
    "\n",
    "\n"
   ]
  },
  {
   "cell_type": "code",
   "execution_count": 30,
   "metadata": {},
   "outputs": [
    {
     "name": "stdout",
     "output_type": "stream",
     "text": [
      "[[8 7 6]\n",
      " [0 5 7]\n",
      " [5 1 4]]\n",
      "12\n"
     ]
    }
   ],
   "source": [
    "#Exercice 2\n",
    "import numpy as np\n",
    "\n",
    "tab3x3 = np.random.randint(10,size=9).reshape((3,3))\n",
    "tab4x4 = np.random.randint(17,size=16).reshape((4,4))\n",
    "print(tab3x3)\n",
    "print(np.sum(tab3x3[1]))\n",
    "\n",
    "def estCarrerMagique(carrer):\n",
    "    taille =  np.size(carrer[0])\n",
    "    S_n = taille(taille**2+1)/2\n",
    "    if(np.size(carrer.diagonal()) != S_n)\n",
    "        return false\n",
    "    if(np.size(fliplr(carrer).diagonal() != S_n)\n",
    "       return false\n",
    "    for i in range(1,taille)\n",
    "        if(np.size(carrer[i])!=S_n)\n",
    "            return false\n",
    "        #sum avec axis = 0 pour les colones et 1 pour les lignes\n",
    "    \n"
   ]
  }
 ],
 "metadata": {
  "kernelspec": {
   "display_name": "Python 3",
   "language": "python",
   "name": "python3"
  },
  "language_info": {
   "codemirror_mode": {
    "name": "ipython",
    "version": 3
   },
   "file_extension": ".py",
   "mimetype": "text/x-python",
   "name": "python",
   "nbconvert_exporter": "python",
   "pygments_lexer": "ipython3",
   "version": "3.7.0"
  }
 },
 "nbformat": 4,
 "nbformat_minor": 2
}
